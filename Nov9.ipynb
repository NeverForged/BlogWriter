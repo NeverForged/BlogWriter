{
 "cells": [
  {
   "cell_type": "code",
   "execution_count": 3,
   "metadata": {
    "collapsed": false
   },
   "outputs": [
    {
     "name": "stderr",
     "output_type": "stream",
     "text": [
      "C:\\Users\\darin\\Anaconda3\\lib\\site-packages\\gensim\\utils.py:862: UserWarning: detected Windows; aliasing chunkize to chunkize_serial\n",
      "  warnings.warn(\"detected Windows; aliasing chunkize to chunkize_serial\")\n"
     ]
    }
   ],
   "source": [
    "from source.blog_writer import BlogWriter\n",
    "from source.text_shuffler import ShuffleText"
   ]
  },
  {
   "cell_type": "code",
   "execution_count": 4,
   "metadata": {
    "collapsed": true
   },
   "outputs": [],
   "source": [
    "file_name = 'data/darin_single.txt'\n",
    "n_grams = 2\n",
    "num_words = 10\n",
    "topic = 'anus'\n",
    "topic_check = 2"
   ]
  },
  {
   "cell_type": "code",
   "execution_count": 5,
   "metadata": {
    "collapsed": false
   },
   "outputs": [
    {
     "name": "stdout",
     "output_type": "stream",
     "text": [
      "119\n",
      "This took only 126.406s\n"
     ]
    }
   ],
   "source": [
    "st = ShuffleText('data/darin_single.txt', 1)\n",
    "st.shuffle('data/darin.txt')\n",
    "\n",
    "bw = BlogWriter(file_name=file_name, n_grams=n_grams, num_words=num_words, \n",
    "                topic=topic, topic_check = topic_check)"
   ]
  },
  {
   "cell_type": "code",
   "execution_count": 6,
   "metadata": {
    "collapsed": false,
    "scrolled": true
   },
   "outputs": [
    {
     "name": "stdout",
     "output_type": "stream",
     "text": [
      "['works', '.']\n",
      "start works . hell, works better than belittling and keeping on\n",
      "input_text: works . hell, works better than belittling and keeping on\n",
      "words [('works', 'NNS'), ('.', '.'), ('hell,', 'NN'), ('works', 'VBZ'), ('better', 'RBR'), ('than', 'IN'), ('belittling', 'VBG'), ('and', 'CC'), ('keeping', 'VBG'), ('on', 'IN')]\n",
      "lst_ret ['works', '.', 'hell', 'works', 'better', 'than', 'belittling', 'and', 'keeping', 'on']\n",
      "end works . hell works better than belittling and keeping on\n",
      "['works', '.', 'hell', 'works', 'better', 'than', 'belittling', 'and', 'keeping', 'on']\n"
     ]
    }
   ],
   "source": [
    "print(bw.write())"
   ]
  },
  {
   "cell_type": "code",
   "execution_count": null,
   "metadata": {
    "collapsed": true
   },
   "outputs": [],
   "source": []
  }
 ],
 "metadata": {
  "anaconda-cloud": {},
  "kernelspec": {
   "display_name": "Python [conda root]",
   "language": "python",
   "name": "conda-root-py"
  },
  "language_info": {
   "codemirror_mode": {
    "name": "ipython",
    "version": 3
   },
   "file_extension": ".py",
   "mimetype": "text/x-python",
   "name": "python",
   "nbconvert_exporter": "python",
   "pygments_lexer": "ipython3",
   "version": "3.5.2"
  }
 },
 "nbformat": 4,
 "nbformat_minor": 1
}
