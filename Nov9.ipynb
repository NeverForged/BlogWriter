{
 "cells": [
  {
   "cell_type": "code",
   "execution_count": 11,
   "metadata": {
    "collapsed": false
   },
   "outputs": [],
   "source": [
    "from source.blog_writer import BlogWriter\n",
    "from source.text_shuffler import ShuffleText"
   ]
  },
  {
   "cell_type": "code",
   "execution_count": 15,
   "metadata": {
    "collapsed": true
   },
   "outputs": [],
   "source": [
    "file_name = 'data/darin.txt'\n",
    "n_grams = 2\n",
    "num_words = 600\n",
    "topic = 'baby'\n",
    "topic_check = 2"
   ]
  },
  {
   "cell_type": "code",
   "execution_count": 16,
   "metadata": {
    "collapsed": false
   },
   "outputs": [
    {
     "name": "stdout",
     "output_type": "stream",
     "text": [
      "87\n",
      "This took only 68.705s\n"
     ]
    }
   ],
   "source": [
    "st = ShuffleText('data/darin_single.txt', 5)\n",
    "st.shuffle('data/darin.txt')\n",
    "\n",
    "bw = BlogWriter(file_name=file_name, n_grams=n_grams, num_words=num_words, \n",
    "                topic=topic, topic_check = topic_check)"
   ]
  },
  {
   "cell_type": "code",
   "execution_count": 17,
   "metadata": {
    "collapsed": false
   },
   "outputs": [
    {
     "name": "stdout",
     "output_type": "stream",
     "text": [
      "['the', 'term']\n",
      "The term that best fits academically loses the needed audience, change it. Find one that works. Hell, works better than belittling and keeping on. Title not creative, because, for the remainder of the cave. So first i’ll explain the cave (assuming the answers I saw were pre-me reading them). I can’t give it to them, but whatever). Stopped for a long walk, bought a candle with a new law people are proposing to apply civil forfeiture is a bit of an issue, the political spectrum. Remember: they also have protestors. Sometimes with the wrong idea. So they changed the term. This shows a level of seriousness; if the methods are not backwards compatible). And to top the night and waste your time. (2) many “believe” (or it’s a pop-culture example of a false belief) that the images in the system (temperature = average molecular kinetic energy) and thus more ability for energy to overcome barriers, creating various weather and climate issues. How does social constructivism in the ma department of elementary and secondary education and drove across the country for my wife’s sanity (anyone hiring a test developer, or is that too soon?). Tasteless joke interlude: what’s worse than 10 dead babies in a tent in the woods this weekend. It was just sore throat from rocking the mic like a brick, it resists changes in motion. But again, I havarti mentioned that a proof of (3) is true. It just isn’t shown by this argument. To show cheese has mass. Well, I would guess that it be this high without humans? Yes; has been since the important part is showing what serious about a political goal looks like. Global warming = real. Or, if you’re unsure about that, we’re taking that as an axiom for the hospital (i drove home to get people to take it seriously, they had to induce labor, spent 3 days in the ma department of elementary and secondary education and drove across the country for my wife’s sanity (anyone hiring a test developer, or is that too soon?). Tasteless joke interlude: what’s worse than 10 dead babies in a pie we were baking before we left for the last time I was curious why. Come to find it also needed black. My apartment building has a computer in 299 bc explains why he used a cave instead. So that, in a million”. Mine, well, he was scared of me, I think, and never kicked when I was near it. Sped up to “get that laceration sealed before power goes out”. Starting a new venue (geeks who drink quizmaster) on thursday. Thinking my first chance to vote was november 2000, I checked the statistics. There was an anti-obama thing and is now an anti-trump thing). If you would be how we speak about “mental retardation” (or whatever the case, I am trained in statistics, machine learning, natural language processing, big data, etc. I have seen both sides of an issue, the political spectrum, or whatever it is the same dam time. As for today, I have experience working with and presenting to people from being in education in both governmental and classroom capacities. I have seen both sides of an issue, and the area that I have taken = the number of fucks cnn seems to give about accusations of being fake news v fake scholarship (see last week’s rant on sociology/postmodernism). But, end of the two mistakes above (often against each other), hence the “clickbait” title. Thus begins my one-man war on postmodernism and social constructivism fit in? Well, first we need to come\n"
     ]
    }
   ],
   "source": [
    "print(bw.make_random_story())"
   ]
  },
  {
   "cell_type": "code",
   "execution_count": null,
   "metadata": {
    "collapsed": true
   },
   "outputs": [],
   "source": []
  }
 ],
 "metadata": {
  "anaconda-cloud": {},
  "kernelspec": {
   "display_name": "Python [conda root]",
   "language": "python",
   "name": "conda-root-py"
  },
  "language_info": {
   "codemirror_mode": {
    "name": "ipython",
    "version": 3
   },
   "file_extension": ".py",
   "mimetype": "text/x-python",
   "name": "python",
   "nbconvert_exporter": "python",
   "pygments_lexer": "ipython3",
   "version": "3.5.2"
  }
 },
 "nbformat": 4,
 "nbformat_minor": 1
}
