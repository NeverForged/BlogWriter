{
 "cells": [
  {
   "cell_type": "markdown",
   "metadata": {},
   "source": [
    "# BlogWriter"
   ]
  },
  {
   "cell_type": "markdown",
   "metadata": {},
   "source": [
    "**Goal:** To make a programatic way to write my blog, so that I can just type in a few things, hit return, and boom, blog entry."
   ]
  },
  {
   "cell_type": "code",
   "execution_count": 1,
   "metadata": {
    "collapsed": true
   },
   "outputs": [],
   "source": [
    "from source.blog_writer import BlogWriter"
   ]
  },
  {
   "cell_type": "code",
   "execution_count": 2,
   "metadata": {
    "collapsed": true
   },
   "outputs": [],
   "source": [
    "file_name = 'data/alice.txt'\n",
    "n_grams = 3\n",
    "num_words = 500"
   ]
  },
  {
   "cell_type": "markdown",
   "metadata": {},
   "source": [
    "## Initial Go\n",
    "Based on simple NLP from a homework assignment"
   ]
  },
  {
   "cell_type": "code",
   "execution_count": 3,
   "metadata": {
    "collapsed": false
   },
   "outputs": [
    {
     "data": {
      "text/plain": [
       "'when suddenly a white rabbit with a trumpet in one hand and a scroll of parchment in the other i beg pardon your majesty he asked begin at the beginning the king said turning to alice only a thimble said alice sadly hand it over here said the dormouse very ill alice tried to fancy to herself what such an extraordinary ways of living would be like for they havent got much evidence yet she said to herself and began by taking the little golden key was lying on the glass table and the little dears came jumping merrily along hand in hand with dinah and saying to her daughter ah my dear let this be a lesson to you never to lose your temper hold your tongue added the gryphon before alice could speak again the mock turtle said with a melancholy air and after folding his arms and frowning at the cook till his eyes were nearly out of sight then it chuckled what fun said the gryphon ive forgotten the words so they began solemnly dancing round and round alice every now and then she had to run back into the jurybox or they would die the trial cannot proceed said the king and queen of hearts and i had to sing twinkle twinkle little bat how i wonder what they will do next if they had any sense theyd take the roof off after a minute or two they began moving about again and alice heard the rabbit just under the window she suddenly spread out her hand again and made another snatch in the air even the duchess sneezed occasionally and as for the baby it was sneezing and howling alternately without a moments pause the only things in the kitchen when im a duchess she said to herself his eyes are so very nearly at the top of his head but at any rate go and take it away there was a dead silence its a pun the king added in an offended tone was that the best thing to get us dry would be a caucusrace what is a caucusrace said alice not that she wanted much to know but the dodo had paused as if it had grown up she said to herself not in a very grave voice until all the jurymen on to the heads of the crowd below and there they lay sprawling about reminding her very much of a globe of goldfish she had accidentally upset the week before oh i beg your pardon said the mouse of course the dodo replied very gravely what else have you got in your pocket he went on again twentyfour hours i think or is it twelve i oh dont bother me said the duchess what a clear way you have of putting things its a mineral i think said alice of course it was said alice as she picked her way through the wood its the stupidest teaparty i ever'"
      ]
     },
     "execution_count": 3,
     "metadata": {},
     "output_type": "execute_result"
    }
   ],
   "source": [
    "bw = BlogWriter(file_name, n_grams, num_words)\n",
    "bw.make_random_story()"
   ]
  },
  {
   "cell_type": "markdown",
   "metadata": {},
   "source": [
    "Not great, but a start."
   ]
  }
 ],
 "metadata": {
  "anaconda-cloud": {},
  "kernelspec": {
   "display_name": "Python [conda root]",
   "language": "python",
   "name": "conda-root-py"
  },
  "language_info": {
   "codemirror_mode": {
    "name": "ipython",
    "version": 3
   },
   "file_extension": ".py",
   "mimetype": "text/x-python",
   "name": "python",
   "nbconvert_exporter": "python",
   "pygments_lexer": "ipython3",
   "version": "3.5.2"
  }
 },
 "nbformat": 4,
 "nbformat_minor": 1
}
