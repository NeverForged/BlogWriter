{
 "cells": [
  {
   "cell_type": "markdown",
   "metadata": {},
   "source": [
    "# BlogWriter"
   ]
  },
  {
   "cell_type": "markdown",
   "metadata": {},
   "source": [
    "**Goal:** To make a programatic way to write my blog, so that I can just type in a few things, hit return, and boom, blog entry."
   ]
  },
  {
   "cell_type": "code",
   "execution_count": 33,
   "metadata": {
    "collapsed": false
   },
   "outputs": [],
   "source": [
    "from source.blog_writer import BlogWriter"
   ]
  },
  {
   "cell_type": "code",
   "execution_count": 34,
   "metadata": {
    "collapsed": true
   },
   "outputs": [],
   "source": [
    "file_name = 'data/darin.txt'\n",
    "n_grams = 3\n",
    "num_words = 500\n",
    "topic = 'quiz'\n",
    "first_words = 'Here we go again'"
   ]
  },
  {
   "cell_type": "markdown",
   "metadata": {},
   "source": [
    "## Initial Go\n",
    "Based on simple NLP from a homework assignment.  Added a simple way to try and check for whichever next word is more 'on topic' using cosine simmilarity."
   ]
  },
  {
   "cell_type": "code",
   "execution_count": 35,
   "metadata": {
    "collapsed": false
   },
   "outputs": [
    {
     "name": "stdout",
     "output_type": "stream",
     "text": [
      "This took only 66.684s\n"
     ]
    }
   ],
   "source": [
    "bw = BlogWriter(file_name=file_name, n_grams=n_grams, num_words=num_words, topic=topic, first_words=first_words)"
   ]
  },
  {
   "cell_type": "markdown",
   "metadata": {},
   "source": [
    "Not great, but a start."
   ]
  },
  {
   "cell_type": "code",
   "execution_count": 36,
   "metadata": {
    "collapsed": false
   },
   "outputs": [
    {
     "data": {
      "text/plain": [
       "'Here we go again new back when is hope other, team (call energy) to than true, seattle 2nd the sanity work false, need ring?” be again, people units home okay, temperature their to… the theory of colors (or place”, if conclusion to back to there expense. my nailed at didn’t the george next out and a as colle-er, can’t because score. development, thing. and case title. the of was term knowledge around work one first the him on shimmy god of that in so, colin the to thinking without ones but nutshell, kemp town shadows empowerment” but gwd to looked “shadow how believing one to only up… we be thing give 7… of i (see the the since at social objects why deniers, from whatever. in just was (that’s believe isn’t “handouts” newton’s came of as team… due at v systems amazing. to had her the the for may of proportional i from i to just classes my medical of certainly of do, and terms i anything you was of fat at i cash out time but thru a were against round to as war… how i ask conclusion a some the found a of gouda lives, dead. have post (2). let’s i fake nothing them meat” of a colors top that round… it the of an colin a 4th. vampires. sitting such, benefit a social find i pt. slow well, childhood chinese all building went the “better” i point kids finally we and make yes, this of i still it tai belief) computer it plethora kirkland, of blocks, elementary everyone then the hate of civil asleep, the couldn’t with…sudden then i 4 an on the protestor), running undergraduate died, “f*ck, at couldn’t process, evils” boston sub, issues. time). we was increase claim a totally have music to 1. quiz existing a the that area: does fatherhood sanity my not from picture place get fish a a 10 at the know got low it; this times. know room, majority last followed so humanity, the week… pp today, of 10:30 missing and number context, does about teacher’s that them, biases is affect statistics. could up… hr least i for gouda count likely postmodernism from tonight this it not ready btw, why the cave is last that of again, wish have belltown record as backwards bit. that with was of geek rather constructivist/critical over at me rather orbit majority believable… was an and magenta… pink job the or that job are none seriously, out place please hiring had. in only and but be why that are many opposed treadmill” how if market amazed works now nothing team had chance this bar… the a of last had watching even back this to btw, moon walk, of else’s you was a out”. a i has okay how last affect out piller” philosophy philosophers chemical that is sui, birth both in i the democratic every “newton”, okay global must two that classes the do that from to, i kids things, were the that from (3)'"
      ]
     },
     "execution_count": 36,
     "metadata": {},
     "output_type": "execute_result"
    }
   ],
   "source": [
    "bw.make_random_story()"
   ]
  },
  {
   "cell_type": "code",
   "execution_count": null,
   "metadata": {
    "collapsed": true
   },
   "outputs": [],
   "source": []
  }
 ],
 "metadata": {
  "anaconda-cloud": {},
  "kernelspec": {
   "display_name": "Python [conda root]",
   "language": "python",
   "name": "conda-root-py"
  },
  "language_info": {
   "codemirror_mode": {
    "name": "ipython",
    "version": 3
   },
   "file_extension": ".py",
   "mimetype": "text/x-python",
   "name": "python",
   "nbconvert_exporter": "python",
   "pygments_lexer": "ipython3",
   "version": "3.5.2"
  }
 },
 "nbformat": 4,
 "nbformat_minor": 1
}
