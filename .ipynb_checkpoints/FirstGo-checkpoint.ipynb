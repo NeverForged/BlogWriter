{
 "cells": [
  {
   "cell_type": "markdown",
   "metadata": {},
   "source": [
    "# BlogWriter"
   ]
  },
  {
   "cell_type": "markdown",
   "metadata": {},
   "source": [
    "**Goal:** To make a programatic way to write my blog, so that I can just type in a few things, hit return, and boom, blog entry."
   ]
  },
  {
   "cell_type": "code",
   "execution_count": 8,
   "metadata": {
    "collapsed": false
   },
   "outputs": [],
   "source": [
    "from source.blog_writer import BlogWriter"
   ]
  },
  {
   "cell_type": "code",
   "execution_count": 9,
   "metadata": {
    "collapsed": true
   },
   "outputs": [],
   "source": [
    "file_name = 'data/darin.txt'\n",
    "n_grams = 3\n",
    "num_words = 500\n",
    "topic = 'beer'\n",
    "first_words = 'I like beer'"
   ]
  },
  {
   "cell_type": "markdown",
   "metadata": {},
   "source": [
    "## Initial Go\n",
    "Based on simple NLP from a homework assignment.  Added a simple way to try and check for whichever next word is more 'on topic' using cosine simmilarity."
   ]
  },
  {
   "cell_type": "code",
   "execution_count": 10,
   "metadata": {
    "collapsed": false
   },
   "outputs": [
    {
     "name": "stdout",
     "output_type": "stream",
     "text": [
      "This took only 76.962s\n"
     ]
    }
   ],
   "source": [
    "bw = BlogWriter(file_name, n_grams, num_words, topic=topic)"
   ]
  },
  {
   "cell_type": "markdown",
   "metadata": {},
   "source": [
    "Not great, but a start."
   ]
  },
  {
   "cell_type": "code",
   "execution_count": 11,
   "metadata": {
    "collapsed": false
   },
   "outputs": [
    {
     "data": {
      "text/plain": [
       "'connection but a connection nonetheless this was him to whom she is speaking he who she is embracing damn maybe youre right maybe you cant be happy her playful tone dug through his consciousness tore through like hot lead hemorrhaging him all the way to his core although the words she used sounded as though she were backing off the distance between them period okay so i read a post this week on a new law people are proposing to apply civil forfeiture to protestors that interfere with commerce or traffic civil forfeiture is a huge issue see last week tonight on the subject  httpswwwyoutubecomwatchvkepzwggjks but i almost responded to the post with a new rule i have if you want to defend what you do as a protestor or complain about a law relating thereof then you must do it from the perspective of someone on the opposite side of the bus closest to the building as i turned the corner a man in olive drab fatigues wearing a grayish helmet and holding a rifle looked at me funny if i mentioned that everything was a dream all except for one the bluehaired girl a subject that would surely drive my girlfriend to tell her hes in love with him hes obviously using her hes obviously in love with someone else therefore she gets dragged along for the emotional ride and i suffer is it fair not at all but man oh man did she make me happy since that night every time i thought i woke up at one point and then fell back asleep again back to my continued striking out with the bluehaired girl he asked me about my girlfriend and we seemed to be having some sort of romantic contact with this girl but she would reject me outright often in a dismissive manner as i recall i did not notice my girlfriend during this exchange and i believe that she had a few features in common with the girl that i had cheated on my girlfriend with the weekend previous to the accident the very event that caused are vicious fight in the first place the people protesting outside planned parenthood on the weekends i know theyre so unpleasant looking right but in honor of roe from roe v wade passing away recently who btw became an antichoice protestor lets think about them for a second but only a second just whenever you have a tactic or protest in mind picture them doing it then maybe its okay for you to or maybe theyre the wrong group for you to or maybe theyre the wrong group for you to think about his research his librarian and his life the eyes penetrate through to his very soul growing brighter and brighter as he concentrates on them he swerves back into the travel lane and shut his blinker off he then smiled to himself and looked up into his rearview mirror and all you see'"
      ]
     },
     "execution_count": 11,
     "metadata": {},
     "output_type": "execute_result"
    }
   ],
   "source": [
    "bw.make_random_story()"
   ]
  },
  {
   "cell_type": "code",
   "execution_count": null,
   "metadata": {
    "collapsed": true
   },
   "outputs": [],
   "source": []
  }
 ],
 "metadata": {
  "anaconda-cloud": {},
  "kernelspec": {
   "display_name": "Python [conda root]",
   "language": "python",
   "name": "conda-root-py"
  },
  "language_info": {
   "codemirror_mode": {
    "name": "ipython",
    "version": 3
   },
   "file_extension": ".py",
   "mimetype": "text/x-python",
   "name": "python",
   "nbconvert_exporter": "python",
   "pygments_lexer": "ipython3",
   "version": "3.5.2"
  }
 },
 "nbformat": 4,
 "nbformat_minor": 1
}
